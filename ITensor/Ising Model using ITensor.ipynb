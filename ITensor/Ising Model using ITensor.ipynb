{
 "cells": [
  {
   "cell_type": "markdown",
   "metadata": {},
   "source": [
    "# Ising Model using ITensor (Julia)\n",
    "\n",
    "This is a personal notebook for myself, though hopefully it also helps others understand how some functions in ITensors work.\n",
    "This is basically an editted notebook that uses the following link: itensor.org/docs.cgi?vers=julia&page=formulas/mixed_sites_dmrg\n",
    "\n",
    "\n",
    "In this notebook, we will consider an ising model with $N$ sites. The Hamiltonian for the ising model is given as the following:\n",
    "\n",
    "$$ H = -J\\sum_{j=1}^{N-1} \\sigma^z_{j} \\sigma^z_{j+1} - h \\sum_{j=1}^{N} \\sigma^x_j $$\n",
    "\n",
    "Note that the first sum is a two-body operator and the sum ends at $N-2$. This makes it so that the final pair is operating on sites $N-2, N-1$. The second term is a one-body operator. \n",
    "\n",
    "\n",
    "## Code\n",
    "\n",
    "First, we need to import ITensors. (I include a print(\"done\") line to make sure that the package is imported.)\n",
    "\n"
   ]
  },
  {
   "cell_type": "code",
   "execution_count": 2,
   "metadata": {},
   "outputs": [
    {
     "name": "stdout",
     "output_type": "stream",
     "text": [
      "done"
     ]
    }
   ],
   "source": [
    "using ITensors\n",
    "print(\"done\")"
   ]
  },
  {
   "cell_type": "markdown",
   "metadata": {},
   "source": [
    "In the cell below, we construct the code for this Ising Model Calculation.\n",
    "\n",
    "### Parameters\n",
    "\n",
    "$N$ is the number of sites.\n",
    "\n",
    "$Jzz$ is equivalent to $J$, and is the strength of the nearest neighbor interactions.\n",
    "\n",
    "$Jx$ is equivalent to $h$, and is the strength of the term proportional to $\\sigma^x$\n",
    "\n",
    "\n",
    "### Breakdown\n",
    "\n",
    "In the code cell below, we start by defining our three parameters. Next, we create our array of N spins. In the 'let' statement, we start by creating a collection of matrix product operator. Then, in the for loop, we iterate from $j=1$ to $N-1$ and to our MPO we add $\\sigma^x_j$ and $\\sigma^z_j\\sigma^z_{j+1}$ operators with the given strenghts. Since the for loop terminates at $j=N-1$, at the end, we include an additional operator for the $N$th site, since the for loop does not capture the final $\\sigma^x$ operator.\n",
    "\n",
    "We then use the MPO() function to take the collection of operators and turn them into a formal Matrix Product Operator, with the proper indices and labels. We can think of this step as creating the Hamiltonian. The following lines then define accuracy parameters: the number of sweeps, maximum dimensions, bond length, and cutoffs.\n",
    "\n",
    "psi0 is a random matrix product state. This will be our initial state that we will variationally modify to find the ground state energy. \n",
    "\n",
    "The final function, dmrg(), uses DMRG to calculate the ground state energy.\n"
   ]
  },
  {
   "cell_type": "code",
   "execution_count": 23,
   "metadata": {},
   "outputs": [
    {
     "name": "stdout",
     "output_type": "stream",
     "text": [
      "After sweep 1 energy=-24.749848318459 maxlinkdim=8 time=0.260\n",
      "After sweep 2 energy=-24.750000000000 maxlinkdim=1 time=0.149\n",
      "After sweep 3 energy=-24.750000000000 maxlinkdim=1 time=0.094\n",
      "After sweep 4 energy=-24.750000000000 maxlinkdim=1 time=0.086\n",
      "After sweep 5 energy=-24.750000000000 maxlinkdim=1 time=0.087\n",
      "After sweep 6 energy=-24.750000000000 maxlinkdim=1 time=0.267\n",
      "After sweep 7 energy=-24.750000000000 maxlinkdim=1 time=0.138\n",
      "After sweep 8 energy=-24.750000000000 maxlinkdim=1 time=0.212\n",
      "After sweep 9 energy=-24.750000000000 maxlinkdim=1 time=0.165\n",
      "After sweep 10 energy=-24.750000000000 maxlinkdim=1 time=0.238\n"
     ]
    }
   ],
   "source": [
    "# Defining Parameters\n",
    "N = 100 # number of sites\n",
    "Jzz = 1.0 # Nearest-Neighbor interaction strength\n",
    "Jx = 0.0 # transverse field interaction strength\n",
    "\n",
    "# Building an Array of N spins\n",
    "sites = siteinds(\"S=1/2\", N)\n",
    "# the S=1/2 is the label for the sites\n",
    "# Note that we expect for Jzz = 1.0 and Jx = 0.0, for S=1/2 we should get E_{gs} = -99/(2*2) = -25.\n",
    "# If we changed spin to 1, for example, with the same parameters, we would get -99/1*1 = -100\n",
    "\n",
    "let\n",
    "    ampo = AutoMPO()\n",
    "    # AutoMPO() stores a collection of operator terms to be summed together into an MPO\n",
    "    # Do so by calling the MPO function on the AutoMPO object\n",
    "    # Which local op names are available is determined by the function op associated with the TagType\n",
    "    # defiend by special index tags, like S=1/2, S=1, Fermion, electron\n",
    "    \n",
    "    # This segment below begins adding operators to our ampo.\n",
    "    # We add in the order: Number, String, Int, String, Int\n",
    "    # The ints are the site numbers. The strings are the names\n",
    "    # the number is the coefficient\n",
    "    for j=1:N-1 # iterates j=1, 2, ..., N-1 # there are N-1 pairs\n",
    "        ampo += Jx, \"Sx\", j\n",
    "        ampo += Jzz, \"Sz\", j, \"Sz\", j+1 #two body operator\n",
    "    end\n",
    "    ampo += Jx, \"Sx\", N\n",
    "\n",
    "    H = MPO(ampo, sites) \n",
    "    # MPO() converts an AutoMPO object to an MPO with the indices given by sites. \n",
    "    \n",
    "    sweeps = Sweeps(10)\n",
    "    # The number of times we run the calculation\n",
    "    \n",
    "    # helps us define accuracy parameters\n",
    "    maxdim!(sweeps, 10, 20, 100, 100, 200)\n",
    "    # set max bond/link dimension for each sweep\n",
    "    \n",
    "    cutoff!(sweeps, 1E-10)\n",
    "    # sets the truncation error cutoff for each sweep\n",
    "    # Our sweeps is set to 10. We only have 9 params for maxdim and 1 for cutoff\n",
    "    # if ferer params are given than the number of sweepsm then the last value is used\n",
    "    # for all remaining sweeps.\n",
    "    \n",
    "    psi0 = randomMPS(sites, 2) # random MPS of bond dimension 2\n",
    "    energy, psi = dmrg(H, psi0, sweeps)\n",
    "    return\n",
    "end\n"
   ]
  },
  {
   "cell_type": "code",
   "execution_count": null,
   "metadata": {},
   "outputs": [],
   "source": []
  },
  {
   "cell_type": "code",
   "execution_count": null,
   "metadata": {},
   "outputs": [],
   "source": []
  }
 ],
 "metadata": {
  "kernelspec": {
   "display_name": "Julia 1.4.2",
   "language": "julia",
   "name": "julia-1.4"
  },
  "language_info": {
   "file_extension": ".jl",
   "mimetype": "application/julia",
   "name": "julia",
   "version": "1.4.2"
  }
 },
 "nbformat": 4,
 "nbformat_minor": 4
}

{
 "cells": [
  {
   "cell_type": "markdown",
   "metadata": {},
   "source": [
    "# Hubbard Model using AutoMPO and DMRG\n",
    "\n",
    "This notebook is an example of the 1D Hubbard Model using ITensor. We modify the code available here: http://itensor.org/docs.cgi?page=classes/autompo&vers=cppv3 , which is written in C++."
   ]
  },
  {
   "cell_type": "code",
   "execution_count": 2,
   "metadata": {},
   "outputs": [
    {
     "name": "stdout",
     "output_type": "stream",
     "text": [
      "done"
     ]
    }
   ],
   "source": [
    "using ITensors\n",
    "print(\"done\")"
   ]
  },
  {
   "cell_type": "code",
   "execution_count": 22,
   "metadata": {},
   "outputs": [
    {
     "data": {
      "text/plain": [
       "MPO\n",
       "[1] IndexSet{3} (dim=6|id=855|\"Link,l=1\") (dim=4|id=534|\"Electron,Site,n=1\")' (dim=4|id=534|\"Electron,Site,n=1\") \n",
       "[2] IndexSet{3} (dim=6|id=855|\"Link,l=1\") (dim=4|id=904|\"Electron,Site,n=2\")' (dim=4|id=904|\"Electron,Site,n=2\") \n"
      ]
     },
     "execution_count": 22,
     "metadata": {},
     "output_type": "execute_result"
    }
   ],
   "source": [
    "# Defining Parameters\n",
    "N = 2 # number of electrons\n",
    "t = 1.0 # hopping term\n",
    "u = 0.0 # potential/interaction term\n",
    "\n",
    "# Building an Array of N spins\n",
    "sites = siteinds(\"Electron\", N) \n",
    "# We use the electron tag here because it allows for the cdagger and N terms\n",
    "\n",
    "ampo = AutoMPO()\n",
    "\n",
    "for i=1:N\n",
    "    ampo += u ,\"Nupdn\", i # u is the coefficient. Nupdn is the counting operator. i is the index\n",
    "end\n",
    "\n",
    "for i=1:N-1\n",
    "    ampo += -t, \"Cdagup\", i, \"Cup\", i+1\n",
    "    ampo += -t, \"Cdagup\", i+1, \"Cup\", i\n",
    "    ampo += -t, \"Cdagdn\", i, \"Cdn\", i+1\n",
    "    ampo += -t, \"Cdagdn\", i+1, \"Cdn\", i\n",
    "end\n",
    "\n",
    "H = MPO(ampo, sites)"
   ]
  },
  {
   "cell_type": "code",
   "execution_count": 21,
   "metadata": {},
   "outputs": [
    {
     "name": "stdout",
     "output_type": "stream",
     "text": [
      "After sweep 1 energy=-11.868891967543 maxlinkdim=10 time=22.045\n",
      "After sweep 2 energy=-12.051019672135 maxlinkdim=20 time=0.193\n",
      "After sweep 3 energy=-12.053347586418 maxlinkdim=100 time=1.706\n",
      "After sweep 4 energy=-12.053348045163 maxlinkdim=100 time=1.603\n",
      "After sweep 5 energy=-12.053348361400 maxlinkdim=200 time=3.701\n",
      "After sweep 6 energy=-12.053348361319 maxlinkdim=200 time=4.170\n",
      "After sweep 7 energy=-12.053348361318 maxlinkdim=200 time=3.812\n",
      "After sweep 8 energy=-12.053348361315 maxlinkdim=200 time=5.449\n",
      "After sweep 9 energy=-12.053348361312 maxlinkdim=200 time=4.301\n",
      "After sweep 10 energy=-12.053348361311 maxlinkdim=200 time=3.910\n"
     ]
    },
    {
     "data": {
      "text/plain": [
       "(-12.053348361310727, MPS\n",
       "[1] IndexSet{2} (dim=4|id=987|\"Link,l=1\") (dim=4|id=626|\"Electron,Site,n=1\") \n",
       "[2] IndexSet{3} (dim=16|id=569|\"Link,l=2\") (dim=4|id=538|\"Electron,Site,n=2\") (dim=4|id=987|\"Link,l=1\") \n",
       "[3] IndexSet{3} (dim=62|id=860|\"Link,l=3\") (dim=4|id=276|\"Electron,Site,n=3\") (dim=16|id=569|\"Link,l=2\") \n",
       "[4] IndexSet{3} (dim=152|id=414|\"Link,l=4\") (dim=4|id=18|\"Electron,Site,n=4\") (dim=62|id=860|\"Link,l=3\") \n",
       "[5] IndexSet{3} (dim=200|id=455|\"Link,l=5\") (dim=4|id=441|\"Electron,Site,n=5\") (dim=152|id=414|\"Link,l=4\") \n",
       "[6] IndexSet{3} (dim=152|id=312|\"Link,l=6\") (dim=4|id=536|\"Electron,Site,n=6\") (dim=200|id=455|\"Link,l=5\") \n",
       "[7] IndexSet{3} (dim=62|id=910|\"Link,l=7\") (dim=4|id=714|\"Electron,Site,n=7\") (dim=152|id=312|\"Link,l=6\") \n",
       "[8] IndexSet{3} (dim=16|id=255|\"Link,l=8\") (dim=4|id=972|\"Electron,Site,n=8\") (dim=62|id=910|\"Link,l=7\") \n",
       "[9] IndexSet{3} (dim=4|id=918|\"Link,l=9\") (dim=4|id=915|\"Electron,Site,n=9\") (dim=16|id=255|\"Link,l=8\") \n",
       "[10] IndexSet{2} (dim=4|id=402|\"Electron,Site,n=10\") (dim=4|id=918|\"Link,l=9\") \n",
       ")"
      ]
     },
     "execution_count": 21,
     "metadata": {},
     "output_type": "execute_result"
    }
   ],
   "source": [
    "sweeps = Sweeps(10)\n",
    "# The number of times we run the calculation\n",
    "\n",
    "# helps us define accuracy parameters\n",
    "maxdim!(sweeps, 10, 20, 100, 100, 200)\n",
    "# set max bond/link dimension for each sweep\n",
    "    \n",
    "cutoff!(sweeps, 1E-10)\n",
    "# sets the truncation error cutoff for each sweep\n",
    "# Our sweeps is set to 10. We only have 9 params for maxdim and 1 for cutoff\n",
    "# if ferer params are given than the number of sweepsm then the last value is used\n",
    "# for all remaining sweeps.\n",
    "    \n",
    "psi0 = randomMPS(sites, 2) # random MPS of bond dimension 2\n",
    "energy, psi = dmrg(H, psi0, sweeps)"
   ]
  },
  {
   "cell_type": "code",
   "execution_count": 17,
   "metadata": {},
   "outputs": [
    {
     "name": "stdout",
     "output_type": "stream",
     "text": [
      "MPS\n",
      "[1] IndexSet{2} (dim=4|id=708|\"Link,l=1\") (dim=4|id=719|\"Electron,Site,n=1\") \n",
      "[2] IndexSet{2} (dim=4|id=638|\"Electron,Site,n=2\") (dim=4|id=708|\"Link,l=1\") \n"
     ]
    }
   ],
   "source": []
  },
  {
   "cell_type": "code",
   "execution_count": null,
   "metadata": {},
   "outputs": [],
   "source": []
  }
 ],
 "metadata": {
  "kernelspec": {
   "display_name": "Julia 1.4.2",
   "language": "julia",
   "name": "julia-1.4"
  },
  "language_info": {
   "file_extension": ".jl",
   "mimetype": "application/julia",
   "name": "julia",
   "version": "1.4.2"
  }
 },
 "nbformat": 4,
 "nbformat_minor": 4
}

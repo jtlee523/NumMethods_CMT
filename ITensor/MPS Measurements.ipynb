{
 "cells": [
  {
   "cell_type": "markdown",
   "metadata": {},
   "source": [
    "# Measurements of an MPS\n",
    "\n",
    "This notebook is essentially an edited version of http://itensor.org/docs.cgi?vers=julia&page=formulas/measure_mps\n",
    "\n",
    "In this notebook, we will be able to take measurements within a matrix product state.\n"
   ]
  },
  {
   "cell_type": "code",
   "execution_count": 2,
   "metadata": {},
   "outputs": [
    {
     "name": "stdout",
     "output_type": "stream",
     "text": [
      "Done"
     ]
    }
   ],
   "source": [
    "using ITensors\n",
    "print(\"Done\")"
   ]
  },
  {
   "cell_type": "code",
   "execution_count": 11,
   "metadata": {},
   "outputs": [
    {
     "name": "stdout",
     "output_type": "stream",
     "text": [
      "ITensor ord=2\n",
      "Dim 1: (dim=2|id=114|\"S=1/2,Site,n=1\")\n",
      "Dim 2: (dim=2|id=211|\"Link,l=1\")\n",
      "NDTensors.Dense{Float64,Array{Float64,1}}\n",
      " 2×2\n",
      " 0.3417410312235465   0.9111980937242931\n",
      " 0.21536512738493463  0.08092566637323806"
     ]
    }
   ],
   "source": [
    "N = 10\n",
    "bondlength = 2\n",
    "sites = siteinds(\"S=1/2\", N) # we are creating site indices with S=1/2.\n",
    "psi = randomMPS(sites, bondlength) # here we are creating a random MPS that we will take measurements of\n",
    "\n",
    "print(psi[1]) # note that you can print out portions of the MPS"
   ]
  },
  {
   "cell_type": "code",
   "execution_count": 12,
   "metadata": {},
   "outputs": [
    {
     "name": "stdout",
     "output_type": "stream",
     "text": [
      "1 0.4470688984285184\n",
      "2 -0.2491167699875433\n",
      "3 -0.024733301166914787\n",
      "4 -0.1646014275283429\n",
      "5 0.00570543784977022\n",
      "6 -0.31473057435968993\n",
      "7 0.22788254698734173\n",
      "8 -0.3141772986009457\n",
      "9 -0.3305831695620387\n",
      "10 0.1901927018702796\n"
     ]
    }
   ],
   "source": [
    "for j=1:length(psi) # for loop running between all the the sites (size of the MPS)\n",
    "    \n",
    "    orthogonalize!(psi,j) # shifts the orthogonality center of thje MPS to site j\n",
    "    \n",
    "    s = siteind(psi, j) # retrieves the site index of the jth MPS tesnor. \n",
    "    \n",
    "    val = scalar(psi[j]*op(s, \"Sz\")*dag(prime(psi[j],s))) # This is the actual calculation\n",
    "    # We take psi[j] and the dagger of psi[j] and sandwich the operator, Sz in between in this example.\n",
    "    # s carries the tag of the site. Note that we have set our sites to be S = 1/2. \n",
    "     \n",
    "    println(\"$j $val\") # using $variable_name will print out the value of the variable\n",
    "end\n",
    "    "
   ]
  },
  {
   "cell_type": "markdown",
   "metadata": {},
   "source": [
    "To get a better understanding of hwo this works, let's consider an ising model example as we did in the previous notebook."
   ]
  },
  {
   "cell_type": "code",
   "execution_count": 27,
   "metadata": {},
   "outputs": [
    {
     "name": "stdout",
     "output_type": "stream",
     "text": [
      "After sweep 1 energy=-2.249998381627 maxlinkdim=6 time=0.039\n",
      "After sweep 2 energy=-2.250000000000 maxlinkdim=1 time=0.025\n",
      "After sweep 3 energy=-2.250000000000 maxlinkdim=1 time=0.015\n",
      "After sweep 4 energy=-2.250000000000 maxlinkdim=1 time=0.014\n",
      "After sweep 5 energy=-2.250000000000 maxlinkdim=1 time=0.010\n",
      "After sweep 6 energy=-2.250000000000 maxlinkdim=1 time=0.011\n",
      "After sweep 7 energy=-2.250000000000 maxlinkdim=1 time=0.017\n",
      "After sweep 8 energy=-2.250000000000 maxlinkdim=1 time=0.020\n",
      "After sweep 9 energy=-2.250000000000 maxlinkdim=1 time=0.017\n",
      "After sweep 10 energy=-2.250000000000 maxlinkdim=1 time=0.012\n",
      "MPS\n",
      "[1] IndexSet{2} (dim=1|id=8|\"Link,l=1\") (dim=2|id=75|\"S=1/2,Site,n=1\") \n",
      "[2] IndexSet{3} (dim=1|id=362|\"Link,l=2\") (dim=2|id=526|\"S=1/2,Site,n=2\") (dim=1|id=8|\"Link,l=1\") \n",
      "[3] IndexSet{3} (dim=1|id=385|\"Link,l=3\") (dim=2|id=697|\"S=1/2,Site,n=3\") (dim=1|id=362|\"Link,l=2\") \n",
      "[4] IndexSet{3} (dim=1|id=784|\"Link,l=4\") (dim=2|id=564|\"S=1/2,Site,n=4\") (dim=1|id=385|\"Link,l=3\") \n",
      "[5] IndexSet{3} (dim=1|id=423|\"Link,l=5\") (dim=2|id=667|\"S=1/2,Site,n=5\") (dim=1|id=784|\"Link,l=4\") \n",
      "[6] IndexSet{3} (dim=1|id=345|\"Link,l=6\") (dim=2|id=628|\"S=1/2,Site,n=6\") (dim=1|id=423|\"Link,l=5\") \n",
      "[7] IndexSet{3} (dim=1|id=559|\"Link,l=7\") (dim=2|id=669|\"S=1/2,Site,n=7\") (dim=1|id=345|\"Link,l=6\") \n",
      "[8] IndexSet{3} (dim=1|id=598|\"Link,l=8\") (dim=2|id=284|\"S=1/2,Site,n=8\") (dim=1|id=559|\"Link,l=7\") \n",
      "[9] IndexSet{3} (dim=1|id=715|\"Link,l=9\") (dim=2|id=332|\"S=1/2,Site,n=9\") (dim=1|id=598|\"Link,l=8\") \n",
      "[10] IndexSet{2} (dim=2|id=877|\"S=1/2,Site,n=10\") (dim=1|id=715|\"Link,l=9\") \n"
     ]
    }
   ],
   "source": [
    "N = 10 # number of sites. To be simple, let's default to N=10\n",
    "Jzz = 1.0 # Nearest-Neighbor interaction strength\n",
    "Jx = 0.0 # transverse field interaction strength\n",
    "\n",
    "sites = siteinds(\"S=1/2\", N)\n",
    "\n",
    "ampo = AutoMPO()\n",
    "for j=1:N-1 \n",
    "    ampo += Jx, \"Sx\", j\n",
    "    ampo += Jzz, \"Sz\", j, \"Sz\", j+1 #two body operator\n",
    "end\n",
    "ampo += Jx, \"Sx\", N\n",
    "\n",
    "H = MPO(ampo, sites) \n",
    "sweeps = Sweeps(10)\n",
    "maxdim!(sweeps, 10, 20, 100, 100, 200)\n",
    "cutoff!(sweeps, 1E-10)\n",
    "psi0 = randomMPS(sites, 2) # random MPS of bond dimension 2\n",
    "energy, psi_ising = dmrg(H, psi0, sweeps)\n",
    "\n",
    "#note that I remove the let statement in order to return psi_ising.\n",
    "\n",
    "print(psi_ising)"
   ]
  },
  {
   "cell_type": "code",
   "execution_count": 28,
   "metadata": {},
   "outputs": [
    {
     "data": {
      "text/plain": [
       "MPS\n",
       "[1] IndexSet{2} (dim=1|id=8|\"Link,l=1\") (dim=2|id=75|\"S=1/2,Site,n=1\") \n",
       "[2] IndexSet{3} (dim=1|id=362|\"Link,l=2\") (dim=2|id=526|\"S=1/2,Site,n=2\") (dim=1|id=8|\"Link,l=1\") \n",
       "[3] IndexSet{3} (dim=1|id=385|\"Link,l=3\") (dim=2|id=697|\"S=1/2,Site,n=3\") (dim=1|id=362|\"Link,l=2\") \n",
       "[4] IndexSet{3} (dim=1|id=784|\"Link,l=4\") (dim=2|id=564|\"S=1/2,Site,n=4\") (dim=1|id=385|\"Link,l=3\") \n",
       "[5] IndexSet{3} (dim=1|id=423|\"Link,l=5\") (dim=2|id=667|\"S=1/2,Site,n=5\") (dim=1|id=784|\"Link,l=4\") \n",
       "[6] IndexSet{3} (dim=1|id=345|\"Link,l=6\") (dim=2|id=628|\"S=1/2,Site,n=6\") (dim=1|id=423|\"Link,l=5\") \n",
       "[7] IndexSet{3} (dim=1|id=559|\"Link,l=7\") (dim=2|id=669|\"S=1/2,Site,n=7\") (dim=1|id=345|\"Link,l=6\") \n",
       "[8] IndexSet{3} (dim=1|id=598|\"Link,l=8\") (dim=2|id=284|\"S=1/2,Site,n=8\") (dim=1|id=559|\"Link,l=7\") \n",
       "[9] IndexSet{3} (dim=1|id=715|\"Link,l=9\") (dim=2|id=332|\"S=1/2,Site,n=9\") (dim=1|id=598|\"Link,l=8\") \n",
       "[10] IndexSet{2} (dim=2|id=877|\"S=1/2,Site,n=10\") (dim=1|id=715|\"Link,l=9\") \n"
      ]
     },
     "execution_count": 28,
     "metadata": {},
     "output_type": "execute_result"
    }
   ],
   "source": [
    "psi_ising"
   ]
  },
  {
   "cell_type": "code",
   "execution_count": 29,
   "metadata": {},
   "outputs": [
    {
     "name": "stdout",
     "output_type": "stream",
     "text": [
      "1 0.5\n",
      "2 -0.5\n",
      "3 0.5\n",
      "4 -0.5\n",
      "5 0.5\n",
      "6 -0.5\n",
      "7 0.5\n",
      "8 -0.5\n",
      "9 0.5\n",
      "10 -0.5\n"
     ]
    }
   ],
   "source": [
    "# We now have a psi from the last sweep above.\n",
    "\n",
    "for j=1:length(psi_ising) # for loop running between all the the sites (size of the MPS)\n",
    "    \n",
    "    orthogonalize!(psi_ising,j) # shifts the orthogonality center of thje MPS to site j\n",
    "    \n",
    "    s = siteind(psi_ising, j) # retrieves the site index of the jth MPS tesnor. \n",
    "    \n",
    "    val = scalar(psi_ising[j]*op(s, \"Sz\")*dag(prime(psi_ising[j],s))) # This is the actual calculation\n",
    "    # We take psi[j] and the dagger of psi[j] and sandwich the operator, Sz in between in this example.\n",
    "    # s carries the tag of the site. Note that we have set our sites to be S = 1/2. \n",
    "     \n",
    "    println(\"$j $val\") # using $variable_name will print out the value of the variable\n",
    "end"
   ]
  },
  {
   "cell_type": "markdown",
   "metadata": {},
   "source": [
    "Using $Jzz = 1.0$ and $Jx = 0.0$, we expect the spins to be completely antialigned. This means, the measurement of this operator should always be plus or minus 1/2, but should alternate!"
   ]
  },
  {
   "cell_type": "code",
   "execution_count": null,
   "metadata": {},
   "outputs": [],
   "source": []
  }
 ],
 "metadata": {
  "kernelspec": {
   "display_name": "Julia 1.4.2",
   "language": "julia",
   "name": "julia-1.4"
  },
  "language_info": {
   "file_extension": ".jl",
   "mimetype": "application/julia",
   "name": "julia",
   "version": "1.4.2"
  }
 },
 "nbformat": 4,
 "nbformat_minor": 4
}

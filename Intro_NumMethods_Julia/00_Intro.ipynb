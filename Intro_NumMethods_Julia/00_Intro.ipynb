{
 "cells": [
  {
   "cell_type": "markdown",
   "metadata": {},
   "source": [
    "# 00 Intro\n",
    "\n",
    "If you're in this notebook, you've stumbled across my *Intro to Numerical Methods* \"course\" in Julia. Whatever your reason for being here is, I hope you find these notebooks helpful in learning tools for computational physics.\n",
    "\n",
    "In this folder, you will find a series of notebooks that cover some basics to get you started. My goal is that by the end of this you are able to tackle some simple problems such as diagonalizing Hamiltonians. Our main focus will be a method known as **exact diagonalization**. \n",
    "\n",
    "These notebooks will be entirely self contained. See the resource section to see resources on the Julia language itself. \n",
    "\n",
    "## Why Julia?\n",
    "\n",
    "## Why Computational Physics?\n",
    "\n",
    "\n",
    "\n",
    "\n",
    "## Resources\n",
    "\n",
    "It may seem counterintuitive to start with resources, but I know it can be helpful to read a dedicated Julia tutorial.\n",
    "\n",
    "- Perla, Sargent, and Stachurski: https://julia.quantecon.org/\n",
    "\n",
    "Their tutorial focuses on quantitative economics, but their course teaches you how to set up your Julia environment (including installing and using Jupyterlab) and basic syntax for computations and mathematics. This was the tutorial I used to learn the basics of Julia.\n",
    "\n",
    "- https://julialang.org/\n",
    "\n",
    "Of course, there is the website for the language itself! Here you can find documentation, updates on Julia, and find ways to engage with the community that uses Julia. They have a series of tutorials on their learn page available here: https://julialang.org/learning/\n"
   ]
  },
  {
   "cell_type": "markdown",
   "metadata": {},
   "source": [
    "## Basics in Julia: The Syntax We Need\n",
    "\n",
    "Our focus will be exact diagonalization. I know we don't necessarily know what this means yet, but there are certain tools we might expect we would need:\n",
    "\n",
    "- We want to be able to do standard arithmetic\n",
    "- We want to be able to use different data types (strings, ints, etc.)\n",
    "- We want to be able to manipulate matrices, matric multiply, etc.\n",
    "- We want to do things with these matrices (find the eigenvalues, diagonalize, etc.)\n",
    "\n",
    "\n"
   ]
  },
  {
   "cell_type": "code",
   "execution_count": null,
   "metadata": {},
   "outputs": [],
   "source": []
  }
 ],
 "metadata": {
  "kernelspec": {
   "display_name": "Julia 1.4.2",
   "language": "julia",
   "name": "julia-1.4"
  },
  "language_info": {
   "file_extension": ".jl",
   "mimetype": "application/julia",
   "name": "julia",
   "version": "1.4.2"
  }
 },
 "nbformat": 4,
 "nbformat_minor": 4
}
